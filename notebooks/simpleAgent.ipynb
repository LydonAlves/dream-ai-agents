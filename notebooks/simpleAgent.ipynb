{
 "cells": [
  {
   "cell_type": "code",
   "execution_count": 17,
   "metadata": {},
   "outputs": [],
   "source": [
    "import os\n",
    "from dotenv import load_dotenv\n",
    "\n",
    "load_dotenv()\n",
    "api_key = os.getenv(\"OPENAI_API_KEY\")\n",
    "tavily_api_key = os.getenv(\"TAVILY_API_KEY\")\n"
   ]
  },
  {
   "cell_type": "code",
   "execution_count": 7,
   "metadata": {},
   "outputs": [],
   "source": [
    "from llama_index.llms.openai import OpenAI\n",
    "\n",
    "llm = OpenAI(model=\"gpt-4o-mini\", api_key=api_key)"
   ]
  },
  {
   "cell_type": "code",
   "execution_count": 19,
   "metadata": {},
   "outputs": [],
   "source": [
    "from tavily import AsyncTavilyClient\n",
    "# Metadata: name of the function is one of most important\n",
    "async def search_web(query: str) -> str:\n",
    "  # Meta data: the below string says what the tool is good for\n",
    "  \"\"\"\n",
    "  Useful for using the web to answer questions.\n",
    "  \"\"\"\n",
    "  client = AsyncTavilyClient(api_key=tavily_api_key)\n",
    "  # return str(await client.search(query))\n",
    "  result = await client.search(query)\n",
    "  return result['results'][0]['content'] if result['results'] else \"No results found.\""
   ]
  },
  {
   "cell_type": "code",
   "execution_count": 20,
   "metadata": {},
   "outputs": [],
   "source": [
    "from llama_index.core.agent.workflow import AgentWorkflow\n",
    "\n",
    "workflow = AgentWorkflow.from_tools_or_functions(\n",
    "  # pass it an array of tools\n",
    "  [search_web],\n",
    "  llm=llm,\n",
    "  system_prompt=\"You are a helpful assistant that answers questions. If you don't know the answer, you can search the web for information\",\n",
    ")"
   ]
  },
  {
   "cell_type": "code",
   "execution_count": null,
   "metadata": {},
   "outputs": [],
   "source": [
    "response = await workflow.run(user_msg=\"What is the weather in Madrid?\")\n",
    "print(str(response)) "
   ]
  },
  {
   "cell_type": "code",
   "execution_count": 22,
   "metadata": {},
   "outputs": [
    {
     "name": "stdout",
     "output_type": "stream",
     "text": [
      "Nice to meet you, Lydon! How can I assist you today?\n"
     ]
    }
   ],
   "source": [
    "from llama_index.core.workflow import Context\n",
    "\n",
    "#Configure a context to work with our wordflow\n",
    "ctx = Context(workflow)\n",
    "\n",
    "response = await workflow.run(\n",
    "  user_msg=\"My name is Lydon, nice to meet you!\", ctx=ctx #give the configured context to the workflow\n",
    ")\n",
    "print(str(response))"
   ]
  },
  {
   "cell_type": "code",
   "execution_count": 23,
   "metadata": {},
   "outputs": [
    {
     "name": "stdout",
     "output_type": "stream",
     "text": [
      "Your name is Lydon.\n"
     ]
    }
   ],
   "source": [
    "#run the workflow again with the same context\n",
    "response = await workflow.run(user_msg=\"What is my name?\", ctx=ctx)\n",
    "print(str(response))"
   ]
  },
  {
   "cell_type": "code",
   "execution_count": 24,
   "metadata": {},
   "outputs": [],
   "source": [
    "from llama_index.core.workflow import JsonPickleSerializer, JsonSerializer\n",
    "\n",
    "#convert our Context to a dictionary object\n",
    "ctx_dict = ctx.to_dict(serializer=JsonSerializer())\n",
    "\n",
    "#create a new Context from teh dictionary\n",
    "restored_ctx = Context.from_dict(\n",
    "  workflow, ctx_dict, serializer=JsonSerializer()\n",
    ")"
   ]
  },
  {
   "cell_type": "code",
   "execution_count": 25,
   "metadata": {},
   "outputs": [
    {
     "name": "stdout",
     "output_type": "stream",
     "text": [
      "Yes, I remember your name is Lydon.\n"
     ]
    }
   ],
   "source": [
    "response = await workflow.run(\n",
    "  user_msg=\"Do you still remember my name?\", ctx=restored_ctx\n",
    ")\n",
    "print(str(response))"
   ]
  },
  {
   "cell_type": "code",
   "execution_count": null,
   "metadata": {},
   "outputs": [],
   "source": [
    "from llama_index.core.agent.workflow import (\n",
    "  AgentInput,\n",
    "  AgentOutput,\n",
    "  ToolCall,\n",
    "  ToolCallResult,\n",
    "  AgentStream,\n",
    ")\n",
    "\n",
    "handler = workflow.run(user_msg=\"What is the weather in Saskatoon?\")\n",
    "\n",
    "async for event in handler.stream_events():\n",
    "  if isinstance(event, AgentStream):\n",
    "      print(event.delta, end=\"\", flush=True)\n",
    "      # print(event.response)  # the current full response\n",
    "      # print(event.raw)  # the raw llm api response\n",
    "      # print(event.current_agent_name)  # the current agent name\n",
    "    # elif isinstance(event, AgentInput):\n",
    "    #    print(event.input)  # the current input messages\n",
    "    #    print(event.current_agent_name)  # the current agent name\n",
    "    # elif isinstance(event, AgentOutput):\n",
    "    #    print(event.response)  # the current full response\n",
    "    #    print(event.tool_calls)  # the selected tool calls, if any\n",
    "    #    print(event.raw)  # the raw llm api response\n",
    "    # elif isinstance(event, ToolCallResult):\n",
    "    #    print(event.tool_name)  # the tool name\n",
    "    #    print(event.tool_kwargs)  # the tool kwargs\n",
    "    #    print(event.tool_output)  # the tool output\n",
    "    # elif isinstance(event, ToolCall):\n",
    "    #     print(event.tool_name)  # the tool name\n",
    "    #     print(event.tool_kwargs)  # the tool kwargs"
   ]
  },
  {
   "cell_type": "code",
   "execution_count": null,
   "metadata": {},
   "outputs": [],
   "source": [
    "from llama_index.core.agent.workflow import (\n",
    "    AgentInput,\n",
    "    AgentOutput,\n",
    "    ToolCall,\n",
    "    ToolCallResult,\n",
    "    AgentStream,\n",
    ")\n",
    "\n",
    "handler = workflow.run(user_msg=\"What is the weather in Saskatoon?\")\n",
    "\n",
    "async for event in handler.stream_events():\n",
    "    if isinstance(event, AgentInput):\n",
    "       print(\"Agent input: \", event.input)  # the current input messages\n",
    "       print(\"Agent name:\", event.current_agent_name)  # the current agent name\n",
    "    elif isinstance(event, AgentOutput):\n",
    "       print(\"Agent output: \", event.response)  # the current full response\n",
    "       print(\"Tool calls made: \", event.tool_calls)  # the selected tool calls, if any\n",
    "       print(\"Raw LLM response: \", event.raw)  # the raw llm api response\n",
    "    elif isinstance(event, ToolCallResult):\n",
    "       print(\"Tool called: \", event.tool_name)  # the tool name\n",
    "       print(\"Arguments to the tool: \", event.tool_kwargs)  # the tool kwargs\n",
    "       print(\"Tool output: \", event.tool_output)  # the tool output"
   ]
  },
  {
   "cell_type": "code",
   "execution_count": 33,
   "metadata": {},
   "outputs": [
    {
     "name": "stdout",
     "output_type": "stream",
     "text": [
      "Your name has been set to Lydon.\n",
      "Name as stored in state: Lydon\n"
     ]
    }
   ],
   "source": [
    "from llama_index.core.workflow import Context\n",
    "#Note: To access the Context, the Context parameter should be the first parameter of the tool.\n",
    "\n",
    "async def set_name(ctx: Context, name:str) -> str:\n",
    "  state = await ctx.get(\"state\")\n",
    "  state[\"name\"] = name\n",
    "  await ctx.set(\"state\", state)\n",
    "  return f\"name set to {name}\"\n",
    "\n",
    "workflow = AgentWorkflow.from_tools_or_functions(\n",
    "  [set_name],\n",
    "  llm=llm,\n",
    "  system_prompt=\"You are a helpful assistant that can set a name.\",\n",
    "  initial_state={\"name\": \"unset\"},\n",
    ")\n",
    "\n",
    "ctx = Context(workflow)\n",
    "\n",
    "response = await workflow.run(user_msg=\"My name is Lydon\", ctx=ctx)\n",
    "print(str(response))\n",
    "\n",
    "state= await ctx.get(\"state\")\n",
    "print(\"Name as stored in state:\", state[\"name\"])"
   ]
  },
  {
   "cell_type": "code",
   "execution_count": null,
   "metadata": {},
   "outputs": [],
   "source": [
    "from llama_index.core.workflow import (\n",
    "  Context,\n",
    "  InputRequiredEvent,\n",
    "  HumanResponseEvent,\n",
    ")\n",
    "\n",
    "# a tool that perfomrs a dangerous task\n",
    "async def dangerous_task(ctx: Context) -> str:\n",
    "  \"\"\"\n",
    "  A dangerous task that requires human confirmation.\n",
    "  \"\"\"\n",
    "\n",
    "    #emit an event to the external stream to be captured\n",
    "  ctx.write_event_to_stream(\n",
    "    InputRequiredEvent(\n",
    "      prefix=\"Are you sure you want to proceed?\",\n",
    "      user_name=\"Lydon\",\n",
    "    )\n",
    "  )\n",
    "\n",
    "  # wait until we see a HumanResponseEvent\n",
    "  response = await ctx.wait_for_event(\n",
    "    HumanResponseEvent, requirements={\"user_name\": \"Lydon\"}\n",
    "  )\n",
    "  \n",
    "  # act on the input from the event\n",
    "  if response.response.strip().lower() == \"yes\":\n",
    "    return \"Dangerous task completed successfully.\"\n",
    "  else:\n",
    "    return \"Dangerous task aborted.\"\n",
    "\n",
    "workflow = AgentWorkflow.from_tools_or_functions(\n",
    "  [dangerous_task],\n",
    "  llm=llm,\n",
    "  system_prompt=\"You are a helpful assistant that can perform dangerous tasks.\",\n",
    ")\n",
    "\n",
    "\n"
   ]
  },
  {
   "cell_type": "code",
   "execution_count": 39,
   "metadata": {},
   "outputs": [
    {
     "name": "stdout",
     "output_type": "stream",
     "text": [
      "The dangerous task has been completed successfully. If you need anything else, feel free to ask!\n"
     ]
    }
   ],
   "source": [
    "# the place to answer is at the top of VSCode\n",
    "\n",
    "handler = workflow.run(user_msg=\"I want to proceed with the dangerous task.\")\n",
    "\n",
    "async for event in handler.stream_events():\n",
    "    # capture InputRequiredEvent\n",
    "    if isinstance(event, InputRequiredEvent):\n",
    "        # capture keyboard input\n",
    "        response = input(event.prefix)\n",
    "        # send our response back\n",
    "        handler.ctx.send_event(\n",
    "            HumanResponseEvent(\n",
    "                response=response,\n",
    "                user_name=event.user_name,\n",
    "            )\n",
    "        )\n",
    "\n",
    "response = await handler\n",
    "print(str(response))"
   ]
  },
  {
   "cell_type": "markdown",
   "metadata": {},
   "source": [
    "The following code is the Multi Agent code"
   ]
  },
  {
   "cell_type": "code",
   "execution_count": 40,
   "metadata": {},
   "outputs": [],
   "source": [
    "async def search_web(query: str) -> str:\n",
    "    \"\"\"Useful for using the web to answer questions.\"\"\"\n",
    "    client = AsyncTavilyClient(api_key=tavily_api_key)\n",
    "    return str(await client.search(query))\n",
    "\n",
    "\n",
    "async def record_notes(ctx: Context, notes: str, notes_title: str) -> str:\n",
    "    \"\"\"Useful for recording notes on a given topic.\"\"\"\n",
    "    current_state = await ctx.get(\"state\")\n",
    "    if \"research_notes\" not in current_state:\n",
    "        current_state[\"research_notes\"] = {}\n",
    "    current_state[\"research_notes\"][notes_title] = notes\n",
    "    await ctx.set(\"state\", current_state)\n",
    "    return \"Notes recorded.\"\n",
    "\n",
    "\n",
    "async def write_report(ctx: Context, report_content: str) -> str:\n",
    "    \"\"\"Useful for writing a report on a given topic.\"\"\"\n",
    "    current_state = await ctx.get(\"state\")\n",
    "    current_state[\"report_content\"] = report_content\n",
    "    await ctx.set(\"state\", current_state)\n",
    "    return \"Report written.\"\n",
    "\n",
    "\n",
    "async def review_report(ctx: Context, review: str) -> str:\n",
    "    \"\"\"Useful for reviewing a report and providing feedback.\"\"\"\n",
    "    current_state = await ctx.get(\"state\")\n",
    "    current_state[\"review\"] = review\n",
    "    await ctx.set(\"state\", current_state)\n",
    "    return \"Report reviewed.\""
   ]
  },
  {
   "cell_type": "code",
   "execution_count": 41,
   "metadata": {},
   "outputs": [],
   "source": [
    "from llama_index.core.agent.workflow import FunctionAgent, ReActAgent\n",
    "\n",
    "research_agent = FunctionAgent(\n",
    "    name=\"ResearchAgent\",\n",
    "    description=\"Useful for searching the web for information on a given topic and recording notes on the topic.\",\n",
    "    system_prompt=(\n",
    "        \"You are the ResearchAgent that can search the web for information on a given topic and record notes on the topic. \"\n",
    "        \"Once notes are recorded and you are satisfied, you should hand off control to the WriteAgent to write a report on the topic.\"\n",
    "    ),\n",
    "    llm=llm,\n",
    "    tools=[search_web, record_notes],\n",
    "    # the below is a hint to help the agent know which other agent it can handoff to\n",
    "    can_handoff_to=[\"WriteAgent\"],\n",
    ")\n",
    "\n",
    "write_agent = FunctionAgent(\n",
    "    name=\"WriteAgent\",\n",
    "    description=\"Useful for writing a report on a given topic.\",\n",
    "    system_prompt=(\n",
    "        \"You are the WriteAgent that can write a report on a given topic. \"\n",
    "        \"Your report should be in a markdown format. The content should be grounded in the research notes. \"\n",
    "        \"Once the report is written, you should get feedback at least once from the ReviewAgent.\"\n",
    "    ),\n",
    "    llm=llm,\n",
    "    tools=[write_report],\n",
    "    can_handoff_to=[\"ReviewAgent\", \"ResearchAgent\"],\n",
    ")\n",
    "\n",
    "review_agent = FunctionAgent(\n",
    "    name=\"ReviewAgent\",\n",
    "    description=\"Useful for reviewing a report and providing feedback.\",\n",
    "    system_prompt=(\n",
    "        \"You are the ReviewAgent that can review a report and provide feedback. \"\n",
    "        \"Your feedback should either approve the current report or request changes for the WriteAgent to implement.\"\n",
    "    ),\n",
    "    llm=llm,\n",
    "    tools=[review_report],\n",
    "    can_handoff_to=[\"WriteAgent\"],\n",
    ")"
   ]
  },
  {
   "cell_type": "code",
   "execution_count": 42,
   "metadata": {},
   "outputs": [],
   "source": [
    "from llama_index.core.agent.workflow import AgentWorkflow\n",
    "\n",
    "agent_workflow = AgentWorkflow(\n",
    "    agents=[research_agent, write_agent, review_agent],\n",
    "    # root_agent is the one that it starts with\n",
    "    root_agent=research_agent.name,\n",
    "    initial_state={\n",
    "        \"research_notes\": {},\n",
    "        \"report_content\": \"Not written yet.\",\n",
    "        \"review\": \"Review required.\",\n",
    "    },\n",
    ")"
   ]
  },
  {
   "cell_type": "code",
   "execution_count": 43,
   "metadata": {},
   "outputs": [
    {
     "name": "stdout",
     "output_type": "stream",
     "text": [
      "\n",
      "==================================================\n",
      "🤖 Agent: ResearchAgent\n",
      "==================================================\n",
      "\n",
      "🛠️  Planning to use tools: ['search_web']\n",
      "🔨 Calling Tool: search_web\n",
      "  With arguments: {'query': 'history of the world wide web development internet 21st century'}\n",
      "🔧 Tool Result (search_web):\n",
      "  Arguments: {'query': 'history of the world wide web development internet 21st century'}\n",
      "  Output: {'query': 'history of the world wide web development internet 21st century', 'follow_up_questions': None, 'answer': None, 'images': [], 'results': [{'title': 'World Wide Web | History, Uses & Benefits | Britannica', 'url': 'https://www.britannica.com/topic/World-Wide-Web', 'content': 'The Editors of Encyclopaedia Britannica Last Updated: Jan 6, 2025 • Article History Table of Contents Table of Contents Ask the Chatbot a Question Byname: the Web (Show more) See all related content World Wide Web (WWW), the leading information retrieval service of the Internet (the worldwide computer network). The Web gives users access to a vast array of mass media and content—via the deep web, the dark web, and the commonly accessible surface web—that is connected by means of hypertext or hypermedia links—i.e., hyperlinks, electronic connections that link related pieces of information in order to allow a user easy access to them. The Web operates within the Internet’s basic client-server format; servers are computer programs that store and transmit documents to other computers on the network when asked to, while clients are programs that request documents from a server as the user asks for them. Tim Berners-Lee(more) The development of the World Wide Web was begun in 1989 by Tim Berners-Lee and his colleagues at CERN, an international scientific organization based in Geneva, Switzerland. They created a protocol, HyperText Transfer Protocol (HTTP), which standardized communication between servers and clients.', 'score': 0.48674685, 'raw_content': None}, {'title': 'History of the Internet and World Wide Web (WWW)', 'url': 'https://www.encyclopedia.com/economics/encyclopedias-almanacs-transcripts-and-maps/history-internet-and-world-wide-web-www', 'content': 'History of the Internet and World Wide Web (WWW) | Encyclopedia.com History of the Internet and World Wide Web (WWW) History of the Internet and World Wide Web (WWW) HISTORY OF THE INTERNET AND WORLD WIDE WEB (WWW) \"History of the Internet and World Wide Web (WWW) .\" Gale Encyclopedia of E-Commerce. \"History of the Internet and World Wide Web (WWW) .\" Gale Encyclopedia of E-Commerce. https://www.encyclopedia.com/economics/encyclopedias-almanacs-transcripts-and-maps/history-internet-and-world-wide-web-www \"History of the Internet and World Wide Web (WWW) .\" Gale Encyclopedia of E-Commerce. . Retrieved January 08, 2025 from Encyclopedia.com: https://www.encyclopedia.com/economics/encyclopedias-almanacs-transcripts-and-maps/history-internet-and-world-wide-web-www History of the Internet and World Wide Web (WWW) History of the Internet and World Wide Web (WWW)', 'score': 0.43065065, 'raw_content': None}, {'title': 'From Past to Present: The History of the Internet', 'url': 'https://www.e8internet.com/blog-post/from-past-to-present-the-history-of-the-internet', 'content': 'His vision was a system where users could navigate and share information through hyperlinks and web pages, making the Internet more accessible to the general public. The WWW transformed the Internet from a specialized tool for researchers into a platform for global communication and commerce. Devices such as the iPhone and Android phones brought the power of the Internet to our fingertips, enabling constant connectivity and access to information on the go. The Internet of Things (IoT) has emerged, connecting everyday objects to the Internet and enabling them to communicate with each other. Blockchain technology also holds the potential to transform the Internet, offering decentralized and secure ways of conducting transactions and managing data. We believe internet is oxygen for the connected world.', 'score': 0.39740095, 'raw_content': None}, {'title': 'A Brief History of the Internet - Internet Society', 'url': 'https://www.internetsociety.org/internet/history-internet/brief-history-internet/', 'content': 'The Internet is at once a world-wide broadcasting capability, a mechanism for information dissemination, and a medium for collaboration and interaction between individuals and their computers without regard for geographic location. The Internet represents one of the most successful examples of the benefits of sustained investment and commitment to research and development of information infrastructure. There is the technological evolution that began with early research on packet switching and the ARPANET (and related technologies), and where current research continues to expand the horizons of the infrastructure along several dimensions, such as scale, performance, and higher-level functionality. And there is the commercialization aspect, resulting in an extremely effective transition of research results into a broadly deployed and available information infrastructure. The Internet today is a widespread information infrastructure, the initial prototype of what is often called the National (or Global or Galactic) Information Infrastructure.', 'score': 0.37614232, 'raw_content': None}, {'title': 'The Invention of the Internet - Inventor, Timeline & Facts - HISTORY', 'url': 'https://www.history.com/articles/invention-of-the-internet', 'content': \"The Invention of the Internet - Inventor, Timeline & Facts | HISTORY U.S. History World History World History History from countries and communities across the globe, including the world’s major wars. 1 The Sputnik Scare2 The Birth of the ARPAnet3 'LOGIN'4 The Network Grows5 The World Wide Web That year, a computer programmer working at the CERN research center on the Swiss-French border named Tim Berners-Lee introduced the World Wide Web: an internet that was not simply a way to send files from one place to another but was itself a “web” of linked information that anyone on the Internet could retrieve. History https://www.history.com/articles/invention-of-the-internet\", 'score': 0.34257206, 'raw_content': None}], 'response_time': 1.67}\n",
      "🛠️  Planning to use tools: ['record_notes', 'record_notes']\n",
      "🔨 Calling Tool: record_notes\n",
      "  With arguments: {'notes': 'The World Wide Web (WWW) was developed by Tim Berners-Lee and his colleagues at CERN in 1989. It introduced the HyperText Transfer Protocol (HTTP), which standardized communication between servers and clients. The Web transformed the Internet from a specialized tool for researchers into a platform for global communication and commerce. \\n\\nThe Internet itself has a longer history, beginning with early research on packet switching and the ARPANET in the late 1960s. The commercialization of the Internet in the 1990s led to its widespread adoption. \\n\\nIn the 21st century, developments such as mobile devices (iPhone, Android) have made the Internet more accessible. The Internet of Things (IoT) connects everyday objects to the Internet, while blockchain technology offers decentralized and secure ways of conducting transactions. \\n\\nOverall, the Web has evolved significantly, impacting how information is shared and accessed globally.', 'notes_title': 'History of the World Wide Web and Internet'}\n",
      "🔧 Tool Result (record_notes):\n",
      "  Arguments: {'notes': 'The World Wide Web (WWW) was developed by Tim Berners-Lee and his colleagues at CERN in 1989. It introduced the HyperText Transfer Protocol (HTTP), which standardized communication between servers and clients. The Web transformed the Internet from a specialized tool for researchers into a platform for global communication and commerce. \\n\\nThe Internet itself has a longer history, beginning with early research on packet switching and the ARPANET in the late 1960s. The commercialization of the Internet in the 1990s led to its widespread adoption. \\n\\nIn the 21st century, developments such as mobile devices (iPhone, Android) have made the Internet more accessible. The Internet of Things (IoT) connects everyday objects to the Internet, while blockchain technology offers decentralized and secure ways of conducting transactions. \\n\\nOverall, the Web has evolved significantly, impacting how information is shared and accessed globally.', 'notes_title': 'History of the World Wide Web and Internet'}\n",
      "  Output: Notes recorded.\n",
      "🔨 Calling Tool: record_notes\n",
      "  With arguments: {'notes': 'The World Wide Web (WWW) was developed by Tim Berners-Lee and his colleagues at CERN in 1989. It introduced the HyperText Transfer Protocol (HTTP), which standardized communication between servers and clients. The Web transformed the Internet from a specialized tool for researchers into a platform for global communication and commerce. \\n\\nThe Internet itself has a longer history, beginning with early research on packet switching and the ARPANET in the late 1960s. The commercialization of the Internet in the 1990s led to its widespread adoption. \\n\\nIn the 21st century, developments such as mobile devices (iPhone, Android) have made the Internet more accessible. The Internet of Things (IoT) connects everyday objects to the Internet, while blockchain technology offers decentralized and secure ways of conducting transactions. \\n\\nOverall, the Web has evolved significantly, impacting how information is shared and accessed globally.', 'notes_title': '21st Century Developments in the Web'}\n",
      "🔧 Tool Result (record_notes):\n",
      "  Arguments: {'notes': 'The World Wide Web (WWW) was developed by Tim Berners-Lee and his colleagues at CERN in 1989. It introduced the HyperText Transfer Protocol (HTTP), which standardized communication between servers and clients. The Web transformed the Internet from a specialized tool for researchers into a platform for global communication and commerce. \\n\\nThe Internet itself has a longer history, beginning with early research on packet switching and the ARPANET in the late 1960s. The commercialization of the Internet in the 1990s led to its widespread adoption. \\n\\nIn the 21st century, developments such as mobile devices (iPhone, Android) have made the Internet more accessible. The Internet of Things (IoT) connects everyday objects to the Internet, while blockchain technology offers decentralized and secure ways of conducting transactions. \\n\\nOverall, the Web has evolved significantly, impacting how information is shared and accessed globally.', 'notes_title': '21st Century Developments in the Web'}\n",
      "  Output: Notes recorded.\n",
      "🛠️  Planning to use tools: ['handoff']\n",
      "🔨 Calling Tool: handoff\n",
      "  With arguments: {'to_agent': 'WriteAgent', 'reason': 'I have recorded the necessary notes on the history of the web and its developments.'}\n",
      "🔧 Tool Result (handoff):\n",
      "  Arguments: {'to_agent': 'WriteAgent', 'reason': 'I have recorded the necessary notes on the history of the web and its developments.'}\n",
      "  Output: Agent WriteAgent is now handling the request due to the following reason: I have recorded the necessary notes on the history of the web and its developments..\n",
      "Please continue with the current request.\n",
      "\n",
      "==================================================\n",
      "🤖 Agent: WriteAgent\n",
      "==================================================\n",
      "\n",
      "🛠️  Planning to use tools: ['write_report']\n",
      "🔨 Calling Tool: write_report\n",
      "  With arguments: {'report_content': '# History of the World Wide Web and Internet\\n\\n## Introduction\\nThe World Wide Web (WWW) is a system of interlinked hypertext documents accessed via the Internet. It has transformed the way we communicate, share information, and conduct business globally. This report outlines the history of the WWW, the development of the Internet, and significant advancements in the 21st century.\\n\\n## Development of the Internet\\nThe origins of the Internet can be traced back to the late 1960s with the development of ARPANET, a project funded by the U.S. Department of Defense. ARPANET utilized packet switching technology, which allowed multiple computers to communicate on a single network. This laid the groundwork for the modern Internet.\\n\\nIn the 1980s, the Internet began to expand beyond military and academic use, leading to the commercialization of the Internet in the 1990s. This period saw the introduction of user-friendly interfaces and the first web browsers, making the Internet accessible to the general public.\\n\\n## Development of the World Wide Web\\nThe World Wide Web was developed by Tim Berners-Lee and his colleagues at CERN in 1989. They introduced the HyperText Transfer Protocol (HTTP), which standardized communication between servers and clients. The Web allowed users to navigate and share information through hyperlinks and web pages, transforming the Internet into a platform for global communication and commerce.\\n\\n## 21st Century Developments\\nIn the 21st century, the Internet has continued to evolve significantly. The advent of mobile devices, such as smartphones (iPhone and Android), has made the Internet more accessible, allowing users to connect anytime and anywhere. \\n\\nAdditionally, the Internet of Things (IoT) has emerged, connecting everyday objects to the Internet and enabling them to communicate with each other. This has led to innovations in smart homes, healthcare, and various industries.\\n\\nBlockchain technology has also gained prominence, offering decentralized and secure methods for conducting transactions and managing data, further shaping the future of the Internet.\\n\\n## Conclusion\\nThe history of the World Wide Web and the Internet is a testament to human ingenuity and the desire for connectivity. From its humble beginnings as a military project to a global platform for communication and commerce, the Web has significantly impacted society. As we move further into the 21st century, ongoing developments will continue to shape how we interact with information and each other.'}\n",
      "🔧 Tool Result (write_report):\n",
      "  Arguments: {'report_content': '# History of the World Wide Web and Internet\\n\\n## Introduction\\nThe World Wide Web (WWW) is a system of interlinked hypertext documents accessed via the Internet. It has transformed the way we communicate, share information, and conduct business globally. This report outlines the history of the WWW, the development of the Internet, and significant advancements in the 21st century.\\n\\n## Development of the Internet\\nThe origins of the Internet can be traced back to the late 1960s with the development of ARPANET, a project funded by the U.S. Department of Defense. ARPANET utilized packet switching technology, which allowed multiple computers to communicate on a single network. This laid the groundwork for the modern Internet.\\n\\nIn the 1980s, the Internet began to expand beyond military and academic use, leading to the commercialization of the Internet in the 1990s. This period saw the introduction of user-friendly interfaces and the first web browsers, making the Internet accessible to the general public.\\n\\n## Development of the World Wide Web\\nThe World Wide Web was developed by Tim Berners-Lee and his colleagues at CERN in 1989. They introduced the HyperText Transfer Protocol (HTTP), which standardized communication between servers and clients. The Web allowed users to navigate and share information through hyperlinks and web pages, transforming the Internet into a platform for global communication and commerce.\\n\\n## 21st Century Developments\\nIn the 21st century, the Internet has continued to evolve significantly. The advent of mobile devices, such as smartphones (iPhone and Android), has made the Internet more accessible, allowing users to connect anytime and anywhere. \\n\\nAdditionally, the Internet of Things (IoT) has emerged, connecting everyday objects to the Internet and enabling them to communicate with each other. This has led to innovations in smart homes, healthcare, and various industries.\\n\\nBlockchain technology has also gained prominence, offering decentralized and secure methods for conducting transactions and managing data, further shaping the future of the Internet.\\n\\n## Conclusion\\nThe history of the World Wide Web and the Internet is a testament to human ingenuity and the desire for connectivity. From its humble beginnings as a military project to a global platform for communication and commerce, the Web has significantly impacted society. As we move further into the 21st century, ongoing developments will continue to shape how we interact with information and each other.'}\n",
      "  Output: Report written.\n",
      "🛠️  Planning to use tools: ['handoff']\n",
      "🔨 Calling Tool: handoff\n",
      "  With arguments: {'to_agent': 'ReviewAgent', 'reason': 'The report on the history of the web is ready for review.'}\n",
      "🔧 Tool Result (handoff):\n",
      "  Arguments: {'to_agent': 'ReviewAgent', 'reason': 'The report on the history of the web is ready for review.'}\n",
      "  Output: Agent ReviewAgent is now handling the request due to the following reason: The report on the history of the web is ready for review..\n",
      "Please continue with the current request.\n",
      "\n",
      "==================================================\n",
      "🤖 Agent: ReviewAgent\n",
      "==================================================\n",
      "\n",
      "🛠️  Planning to use tools: ['review_report']\n",
      "🔨 Calling Tool: review_report\n",
      "  With arguments: {'review': 'The report on the history of the web is well-structured and covers the key developments in the history of the Internet and the World Wide Web. It effectively outlines the evolution from ARPANET to the commercialization of the Internet and highlights significant 21st-century advancements such as mobile technology, IoT, and blockchain. Overall, the report is informative and concise, making it suitable for readers seeking to understand the topic. I approve this report.'}\n",
      "🔧 Tool Result (review_report):\n",
      "  Arguments: {'review': 'The report on the history of the web is well-structured and covers the key developments in the history of the Internet and the World Wide Web. It effectively outlines the evolution from ARPANET to the commercialization of the Internet and highlights significant 21st-century advancements such as mobile technology, IoT, and blockchain. Overall, the report is informative and concise, making it suitable for readers seeking to understand the topic. I approve this report.'}\n",
      "  Output: Report reviewed.\n",
      "📤 Output: The report on the history of the web has been reviewed and approved. It effectively covers the key developments from the inception of the Internet to significant advancements in the 21st century. If you need any further assistance or additional reports, feel free to ask!\n"
     ]
    }
   ],
   "source": [
    "from llama_index.core.agent.workflow import (\n",
    "    AgentInput,\n",
    "    AgentOutput,\n",
    "    ToolCall,\n",
    "    ToolCallResult,\n",
    "    AgentStream,\n",
    ")\n",
    "\n",
    "handler = agent_workflow.run(\n",
    "    user_msg=\"Write me a report on the history of the web. Briefly describe the history of the world wide web, including the development of the internet and the development of the web, including 21st century developments\"\n",
    ")\n",
    "\n",
    "current_agent = None\n",
    "current_tool_calls = \"\"\n",
    "async for event in handler.stream_events():\n",
    "    if (\n",
    "        hasattr(event, \"current_agent_name\")\n",
    "        and event.current_agent_name != current_agent\n",
    "    ):\n",
    "        current_agent = event.current_agent_name\n",
    "        print(f\"\\n{'='*50}\")\n",
    "        print(f\"🤖 Agent: {current_agent}\")\n",
    "        print(f\"{'='*50}\\n\")\n",
    "    elif isinstance(event, AgentOutput):\n",
    "        if event.response.content:\n",
    "            print(\"📤 Output:\", event.response.content)\n",
    "        if event.tool_calls:\n",
    "            print(\n",
    "                \"🛠️  Planning to use tools:\",\n",
    "                [call.tool_name for call in event.tool_calls],\n",
    "            )\n",
    "    elif isinstance(event, ToolCallResult):\n",
    "        print(f\"🔧 Tool Result ({event.tool_name}):\")\n",
    "        print(f\"  Arguments: {event.tool_kwargs}\")\n",
    "        print(f\"  Output: {event.tool_output}\")\n",
    "    elif isinstance(event, ToolCall):\n",
    "        print(f\"🔨 Calling Tool: {event.tool_name}\")\n",
    "        print(f\"  With arguments: {event.tool_kwargs}\")"
   ]
  },
  {
   "cell_type": "code",
   "execution_count": 44,
   "metadata": {},
   "outputs": [
    {
     "name": "stdout",
     "output_type": "stream",
     "text": [
      "# History of the World Wide Web and Internet\n",
      "\n",
      "## Introduction\n",
      "The World Wide Web (WWW) is a system of interlinked hypertext documents accessed via the Internet. It has transformed the way we communicate, share information, and conduct business globally. This report outlines the history of the WWW, the development of the Internet, and significant advancements in the 21st century.\n",
      "\n",
      "## Development of the Internet\n",
      "The origins of the Internet can be traced back to the late 1960s with the development of ARPANET, a project funded by the U.S. Department of Defense. ARPANET utilized packet switching technology, which allowed multiple computers to communicate on a single network. This laid the groundwork for the modern Internet.\n",
      "\n",
      "In the 1980s, the Internet began to expand beyond military and academic use, leading to the commercialization of the Internet in the 1990s. This period saw the introduction of user-friendly interfaces and the first web browsers, making the Internet accessible to the general public.\n",
      "\n",
      "## Development of the World Wide Web\n",
      "The World Wide Web was developed by Tim Berners-Lee and his colleagues at CERN in 1989. They introduced the HyperText Transfer Protocol (HTTP), which standardized communication between servers and clients. The Web allowed users to navigate and share information through hyperlinks and web pages, transforming the Internet into a platform for global communication and commerce.\n",
      "\n",
      "## 21st Century Developments\n",
      "In the 21st century, the Internet has continued to evolve significantly. The advent of mobile devices, such as smartphones (iPhone and Android), has made the Internet more accessible, allowing users to connect anytime and anywhere. \n",
      "\n",
      "Additionally, the Internet of Things (IoT) has emerged, connecting everyday objects to the Internet and enabling them to communicate with each other. This has led to innovations in smart homes, healthcare, and various industries.\n",
      "\n",
      "Blockchain technology has also gained prominence, offering decentralized and secure methods for conducting transactions and managing data, further shaping the future of the Internet.\n",
      "\n",
      "## Conclusion\n",
      "The history of the World Wide Web and the Internet is a testament to human ingenuity and the desire for connectivity. From its humble beginnings as a military project to a global platform for communication and commerce, the Web has significantly impacted society. As we move further into the 21st century, ongoing developments will continue to shape how we interact with information and each other.\n"
     ]
    }
   ],
   "source": [
    "state = await handler.ctx.get(\"state\")\n",
    "print(state[\"report_content\"])"
   ]
  },
  {
   "cell_type": "code",
   "execution_count": 45,
   "metadata": {},
   "outputs": [
    {
     "name": "stdout",
     "output_type": "stream",
     "text": [
      "The report on the history of the web is well-structured and covers the key developments in the history of the Internet and the World Wide Web. It effectively outlines the evolution from ARPANET to the commercialization of the Internet and highlights significant 21st-century advancements such as mobile technology, IoT, and blockchain. Overall, the report is informative and concise, making it suitable for readers seeking to understand the topic. I approve this report.\n"
     ]
    }
   ],
   "source": [
    "print(state[\"review\"])"
   ]
  },
  {
   "cell_type": "code",
   "execution_count": 46,
   "metadata": {},
   "outputs": [],
   "source": [
    "from llama_index.core.workflow import (\n",
    "    StartEvent,\n",
    "    StopEvent,\n",
    "    Workflow,\n",
    "    step,\n",
    ")\n",
    "\n",
    "class MyWorkflow(Workflow):\n",
    "    @step\n",
    "    async def my_step(self, ev: StartEvent) -> StopEvent:\n",
    "        # do something here\n",
    "        return StopEvent(result=\"Hello, world!\")"
   ]
  },
  {
   "cell_type": "code",
   "execution_count": 47,
   "metadata": {},
   "outputs": [
    {
     "name": "stdout",
     "output_type": "stream",
     "text": [
      "Hello, world!\n"
     ]
    }
   ],
   "source": [
    "workflow = MyWorkflow(timeout=10, verbose=False)\n",
    "result = await workflow.run()\n",
    "print(result)"
   ]
  },
  {
   "cell_type": "code",
   "execution_count": 49,
   "metadata": {},
   "outputs": [],
   "source": [
    "from llama_index.core.workflow import Event\n",
    "\n",
    "class FirstEvent(Event):\n",
    "    first_output: str\n",
    "\n",
    "class SecondEvent(Event):\n",
    "    second_output: str"
   ]
  },
  {
   "cell_type": "code",
   "execution_count": 50,
   "metadata": {},
   "outputs": [
    {
     "name": "stdout",
     "output_type": "stream",
     "text": [
      "Start the workflow.\n",
      "First step complete.\n",
      "Second step complete.\n",
      "Workflow complete.\n"
     ]
    }
   ],
   "source": [
    "class MyWorkflow(Workflow):\n",
    "    @step\n",
    "    async def step_one(self, ev: StartEvent) -> FirstEvent:\n",
    "        print(ev.first_input)\n",
    "        return FirstEvent(first_output=\"First step complete.\")\n",
    "\n",
    "    @step\n",
    "    async def step_two(self, ev: FirstEvent) -> SecondEvent:\n",
    "        print(ev.first_output)\n",
    "        return SecondEvent(second_output=\"Second step complete.\")\n",
    "\n",
    "    @step\n",
    "    async def step_three(self, ev: SecondEvent) -> StopEvent:\n",
    "        print(ev.second_output)\n",
    "        return StopEvent(result=\"Workflow complete.\")\n",
    "\n",
    "\n",
    "w = MyWorkflow(timeout=10, verbose=False)\n",
    "result = await w.run(first_input=\"Start the workflow.\")\n",
    "print(result)"
   ]
  },
  {
   "cell_type": "code",
   "execution_count": 52,
   "metadata": {},
   "outputs": [],
   "source": [
    "class LoopEvent(Event):\n",
    "    loop_output: str"
   ]
  },
  {
   "cell_type": "code",
   "execution_count": 55,
   "metadata": {},
   "outputs": [
    {
     "name": "stdout",
     "output_type": "stream",
     "text": [
      "Bad thing happened\n",
      "Bad thing happened\n",
      "Good thing happened\n",
      "First step complete.\n",
      "Second step complete.\n",
      "Workflow complete.\n"
     ]
    }
   ],
   "source": [
    "import random\n",
    "\n",
    "class MyWorkflow(Workflow):\n",
    "\n",
    "    @step\n",
    "    async def step_one(self, ev: StartEvent | LoopEvent) -> FirstEvent | LoopEvent:\n",
    "        if random.randint(0, 1) == 0:\n",
    "            print(\"Bad thing happened\")\n",
    "            return LoopEvent(loop_output=\"Back to step one.\")\n",
    "        else:\n",
    "            print(\"Good thing happened\")\n",
    "            return FirstEvent(first_output=\"First step complete.\")\n",
    "\n",
    "    @step\n",
    "    async def step_two(self, ev: FirstEvent) -> SecondEvent:\n",
    "        print(ev.first_output)\n",
    "        return SecondEvent(second_output=\"Second step complete.\")\n",
    "\n",
    "    @step\n",
    "    async def step_three(self, ev: SecondEvent) -> StopEvent:\n",
    "        print(ev.second_output)\n",
    "        return StopEvent(result=\"Workflow complete.\")\n",
    "\n",
    "\n",
    "w = MyWorkflow(timeout=10, verbose=False)\n",
    "result = await w.run(first_input=\"Start the workflow.\")\n",
    "print(result)"
   ]
  },
  {
   "cell_type": "code",
   "execution_count": null,
   "metadata": {},
   "outputs": [],
   "source": [
    "from llama_index.utils.workflow import draw_all_possible_flows\n",
    "\n",
    "draw_all_possible_flows(MyWorkflow, filename=\"basic_workflow.html\")"
   ]
  },
  {
   "cell_type": "code",
   "execution_count": 57,
   "metadata": {},
   "outputs": [],
   "source": [
    "class BranchA1Event(Event):\n",
    "    payload: str\n",
    "\n",
    "\n",
    "class BranchA2Event(Event):\n",
    "    payload: str\n",
    "\n",
    "\n",
    "class BranchB1Event(Event):\n",
    "    payload: str\n",
    "\n",
    "\n",
    "class BranchB2Event(Event):\n",
    "    payload: str\n",
    "\n",
    "\n",
    "class BranchWorkflow(Workflow):\n",
    "    @step\n",
    "    async def start(self, ev: StartEvent) -> BranchA1Event | BranchB1Event:\n",
    "        if random.randint(0, 1) == 0:\n",
    "            print(\"Go to branch A\")\n",
    "            return BranchA1Event(payload=\"Branch A\")\n",
    "        else:\n",
    "            print(\"Go to branch B\")\n",
    "            return BranchB1Event(payload=\"Branch B\")\n",
    "\n",
    "    @step\n",
    "    async def step_a1(self, ev: BranchA1Event) -> BranchA2Event:\n",
    "        print(ev.payload)\n",
    "        return BranchA2Event(payload=ev.payload)\n",
    "\n",
    "    @step\n",
    "    async def step_b1(self, ev: BranchB1Event) -> BranchB2Event:\n",
    "        print(ev.payload)\n",
    "        return BranchB2Event(payload=ev.payload)\n",
    "\n",
    "    @step\n",
    "    async def step_a2(self, ev: BranchA2Event) -> StopEvent:\n",
    "        print(ev.payload)\n",
    "        return StopEvent(result=\"Branch A complete.\")\n",
    "\n",
    "    @step\n",
    "    async def step_b2(self, ev: BranchB2Event) -> StopEvent:\n",
    "        print(ev.payload)\n",
    "        return StopEvent(result=\"Branch B complete.\")"
   ]
  },
  {
   "cell_type": "code",
   "execution_count": 59,
   "metadata": {},
   "outputs": [
    {
     "name": "stdout",
     "output_type": "stream",
     "text": [
      "<class 'NoneType'>\n",
      "<class '__main__.BranchA1Event'>\n",
      "<class '__main__.BranchB1Event'>\n",
      "<class '__main__.BranchA2Event'>\n",
      "<class 'llama_index.core.workflow.events.StopEvent'>\n",
      "<class '__main__.BranchB2Event'>\n",
      "<class 'llama_index.core.workflow.events.StopEvent'>\n",
      "basic_workflow.html\n"
     ]
    }
   ],
   "source": [
    "from llama_index.utils.workflow import draw_all_possible_flows\n",
    "\n",
    "draw_all_possible_flows(BranchWorkflow, filename=\"basic_workflow.html\")"
   ]
  },
  {
   "cell_type": "code",
   "execution_count": 60,
   "metadata": {},
   "outputs": [],
   "source": [
    "import asyncio\n",
    "\n",
    "class StepTwoEvent(Event):\n",
    "    query: str\n",
    "\n",
    "class ParallelFlow(Workflow):\n",
    "    @step\n",
    "    async def start(self, ctx: Context, ev: StartEvent) -> StepTwoEvent:\n",
    "        ctx.send_event(StepTwoEvent(query=\"Query 1\"))\n",
    "        ctx.send_event(StepTwoEvent(query=\"Query 2\"))\n",
    "        ctx.send_event(StepTwoEvent(query=\"Query 3\"))\n",
    "\n",
    "    @step(num_workers=4)\n",
    "    async def step_two(self, ctx: Context, ev: StepTwoEvent) -> StopEvent:\n",
    "        print(\"Running slow query \", ev.query)\n",
    "        await asyncio.sleep(random.randint(1, 5))\n",
    "\n",
    "        return StopEvent(result=ev.query)"
   ]
  },
  {
   "cell_type": "code",
   "execution_count": 61,
   "metadata": {},
   "outputs": [
    {
     "name": "stdout",
     "output_type": "stream",
     "text": [
      "Running slow query  Query 1\n",
      "Running slow query  Query 2\n",
      "Running slow query  Query 3\n",
      "Query 2\n"
     ]
    }
   ],
   "source": [
    "w = ParallelFlow(timeout=10, verbose=False)\n",
    "result = await w.run(message=\"Start the workflow.\")\n",
    "print(result)"
   ]
  },
  {
   "cell_type": "code",
   "execution_count": 62,
   "metadata": {},
   "outputs": [],
   "source": [
    "class StepThreeEvent(Event):\n",
    "    result: str\n",
    "\n",
    "class ConcurrentFlow(Workflow):\n",
    "    @step\n",
    "    async def start(self, ctx: Context, ev: StartEvent) -> StepTwoEvent:\n",
    "        ctx.send_event(StepTwoEvent(query=\"Query 1\"))\n",
    "        ctx.send_event(StepTwoEvent(query=\"Query 2\"))\n",
    "        ctx.send_event(StepTwoEvent(query=\"Query 3\"))\n",
    "\n",
    "    @step(num_workers=4)\n",
    "    async def step_two(self, ctx: Context, ev: StepTwoEvent) -> StepThreeEvent:\n",
    "        print(\"Running query \", ev.query)\n",
    "        await asyncio.sleep(random.randint(1, 5))\n",
    "        return StepThreeEvent(result=ev.query)\n",
    "\n",
    "    @step\n",
    "    async def step_three(self, ctx: Context, ev: StepThreeEvent) -> StopEvent:\n",
    "        # wait until we receive 3 events\n",
    "        result = ctx.collect_events(ev, [StepThreeEvent] * 3)\n",
    "        if result is None:\n",
    "            print(\"Not all events received yet.\")\n",
    "            return None\n",
    "\n",
    "        # do something with all 3 results together\n",
    "        print(result)\n",
    "        return StopEvent(result=\"Done\")"
   ]
  },
  {
   "cell_type": "code",
   "execution_count": 63,
   "metadata": {},
   "outputs": [
    {
     "name": "stdout",
     "output_type": "stream",
     "text": [
      "Running query  Query 1\n",
      "Running query  Query 2\n",
      "Running query  Query 3\n",
      "Not all events received yet.\n",
      "Not all events received yet.\n",
      "[StepThreeEvent(result='Query 2'), StepThreeEvent(result='Query 3'), StepThreeEvent(result='Query 1')]\n",
      "Done\n"
     ]
    }
   ],
   "source": [
    "w = ConcurrentFlow(timeout=10, verbose=False)\n",
    "result = await w.run(message=\"Start the workflow.\")\n",
    "print(result)"
   ]
  },
  {
   "cell_type": "code",
   "execution_count": 64,
   "metadata": {},
   "outputs": [],
   "source": [
    "class StepAEvent(Event):\n",
    "    query: str\n",
    "\n",
    "class StepACompleteEvent(Event):\n",
    "    result: str\n",
    "\n",
    "class StepBEvent(Event):\n",
    "    query: str\n",
    "\n",
    "class StepBCompleteEvent(Event):\n",
    "    result: str\n",
    "\n",
    "class StepCEvent(Event):\n",
    "    query: str\n",
    "\n",
    "class StepCCompleteEvent(Event):\n",
    "    result: str\n",
    "\n",
    "class ConcurrentFlow(Workflow):\n",
    "    @step\n",
    "    async def start(\n",
    "        self, ctx: Context, ev: StartEvent\n",
    "    ) -> StepAEvent | StepBEvent | StepCEvent:\n",
    "        ctx.send_event(StepAEvent(query=\"Query 1\"))\n",
    "        ctx.send_event(StepBEvent(query=\"Query 2\"))\n",
    "        ctx.send_event(StepCEvent(query=\"Query 3\"))\n",
    "\n",
    "    @step\n",
    "    async def step_a(self, ctx: Context, ev: StepAEvent) -> StepACompleteEvent:\n",
    "        print(\"Doing something A-ish\")\n",
    "        return StepACompleteEvent(result=ev.query)\n",
    "\n",
    "    @step\n",
    "    async def step_b(self, ctx: Context, ev: StepBEvent) -> StepBCompleteEvent:\n",
    "        print(\"Doing something B-ish\")\n",
    "        return StepBCompleteEvent(result=ev.query)\n",
    "\n",
    "    @step\n",
    "    async def step_c(self, ctx: Context, ev: StepCEvent) -> StepCCompleteEvent:\n",
    "        print(\"Doing something C-ish\")\n",
    "        return StepCCompleteEvent(result=ev.query)\n",
    "\n",
    "    @step\n",
    "    async def step_three(\n",
    "        self,\n",
    "        ctx: Context,\n",
    "        ev: StepACompleteEvent | StepBCompleteEvent | StepCCompleteEvent,\n",
    "    ) -> StopEvent:\n",
    "        print(\"Received event \", ev.result)\n",
    "\n",
    "        # wait until we receive 3 events\n",
    "        events = ctx.collect_events(\n",
    "            ev,\n",
    "            [StepCCompleteEvent, StepACompleteEvent, StepBCompleteEvent],\n",
    "        )\n",
    "        if (events is None):\n",
    "            return None\n",
    "\n",
    "        # do something with all 3 results together\n",
    "        print(\"All events received: \", events)\n",
    "        return StopEvent(result=\"Done\")"
   ]
  },
  {
   "cell_type": "code",
   "execution_count": 65,
   "metadata": {},
   "outputs": [
    {
     "name": "stdout",
     "output_type": "stream",
     "text": [
      "Doing something A-ish\n",
      "Doing something B-ish\n",
      "Doing something C-ish\n",
      "Received event  Query 1\n",
      "Received event  Query 2\n",
      "Received event  Query 3\n",
      "All events received:  [StepCCompleteEvent(result='Query 3'), StepACompleteEvent(result='Query 1'), StepBCompleteEvent(result='Query 2')]\n",
      "Done\n"
     ]
    }
   ],
   "source": [
    "w = ConcurrentFlow(timeout=10, verbose=False)\n",
    "result = await w.run(message=\"Start the workflow.\")\n",
    "print(result)"
   ]
  },
  {
   "cell_type": "code",
   "execution_count": 66,
   "metadata": {},
   "outputs": [
    {
     "name": "stdout",
     "output_type": "stream",
     "text": [
      "<class 'NoneType'>\n",
      "<class '__main__.StepAEvent'>\n",
      "<class '__main__.StepBEvent'>\n",
      "<class '__main__.StepCEvent'>\n",
      "<class '__main__.StepACompleteEvent'>\n",
      "<class '__main__.StepBCompleteEvent'>\n",
      "<class '__main__.StepCCompleteEvent'>\n",
      "<class 'llama_index.core.workflow.events.StopEvent'>\n",
      "basic_workflow.html\n"
     ]
    }
   ],
   "source": [
    "from llama_index.utils.workflow import draw_all_possible_flows\n",
    "\n",
    "draw_all_possible_flows(ConcurrentFlow, filename=\"basic_workflow.html\")"
   ]
  },
  {
   "cell_type": "code",
   "execution_count": 67,
   "metadata": {},
   "outputs": [],
   "source": [
    "class FirstEvent(Event):\n",
    "    first_output: str\n",
    "\n",
    "class SecondEvent(Event):\n",
    "    second_output: str\n",
    "    response: str\n",
    "\n",
    "class TextEvent(Event):\n",
    "    delta: str\n",
    "\n",
    "class ProgressEvent(Event):\n",
    "    msg: str\n",
    "\n",
    "class MyWorkflow(Workflow):\n",
    "    @step\n",
    "    async def step_one(self, ctx: Context, ev: StartEvent) -> FirstEvent:\n",
    "        ctx.write_event_to_stream(ProgressEvent(msg=\"Step one is happening\"))\n",
    "        return FirstEvent(first_output=\"First step complete.\")\n",
    "\n",
    "    @step\n",
    "    async def step_two(self, ctx: Context, ev: FirstEvent) -> SecondEvent:\n",
    "        llm = OpenAI(model=\"gpt-4o-mini\", api_key=api_key) # the OpenAI key we set up at the beginning\n",
    "        generator = await llm.astream_complete(\n",
    "            \"Please give me the first 50 words of Moby Dick, a book in the public domain.\"\n",
    "        )\n",
    "        async for response in generator:\n",
    "            # Allow the workflow to stream this piece of response\n",
    "            ctx.write_event_to_stream(TextEvent(delta=response.delta))\n",
    "        return SecondEvent(\n",
    "            second_output=\"Second step complete, full response attached\",\n",
    "            response=str(response),\n",
    "        )\n",
    "\n",
    "    @step\n",
    "    async def step_three(self, ctx: Context, ev: SecondEvent) -> StopEvent:\n",
    "        ctx.write_event_to_stream(ProgressEvent(msg=\"Step three is happening\"))\n",
    "        return StopEvent(result=\"Workflow complete.\")"
   ]
  },
  {
   "cell_type": "code",
   "execution_count": 68,
   "metadata": {},
   "outputs": [
    {
     "name": "stdout",
     "output_type": "stream",
     "text": [
      "Step one is happening\n",
      "Sure! Here are the first 50 words of \"Moby Dick\" by Herman Melville:\n",
      "\n",
      "\"Call me Ishmael. Some years ago—never mind how long precisely—I had little or no money in my purse, and nothing particular to interest me on shore. So, whenever I find myself growing grim about the mouth; whenever it is a damp, drizzly November in my soul;\"Step three is happening\n",
      "Final result =  Workflow complete.\n"
     ]
    }
   ],
   "source": [
    "workflow = MyWorkflow(timeout=30, verbose=False)\n",
    "handler = workflow.run(first_input=\"Start the workflow.\")\n",
    "\n",
    "async for ev in handler.stream_events():\n",
    "    if isinstance(ev, ProgressEvent):\n",
    "        print(ev.msg)\n",
    "    if isinstance(ev, TextEvent):\n",
    "        print(ev.delta, end=\"\")\n",
    "\n",
    "final_result = await handler\n",
    "print(\"Final result = \", final_result)"
   ]
  },
  {
   "cell_type": "markdown",
   "metadata": {},
   "source": [
    "Multi Agent System"
   ]
  },
  {
   "cell_type": "code",
   "execution_count": 69,
   "metadata": {},
   "outputs": [],
   "source": [
    "from llama_index.core.agent import FunctionCallingAgent as GenericFunctionCallingAgent\n",
    "from llama_index.core.tools import FunctionTool\n",
    "\n",
    "# convert our web search functions into a tool, the generic function calling agent doesn't do this automatically (yet)\n",
    "search_web_tool = FunctionTool.from_defaults(fn=search_web)\n",
    "\n",
    "research_agent = GenericFunctionCallingAgent.from_tools(\n",
    "    tools=[search_web_tool],\n",
    "    llm=llm,\n",
    "    verbose=False,\n",
    "    allow_parallel_tool_calls=False,\n",
    "    system_prompt=\"You are an agent that does research by searching the web and then records the results of your research.\"\n",
    ")\n",
    "write_agent = GenericFunctionCallingAgent.from_tools(\n",
    "    tools=[],\n",
    "    llm=llm,\n",
    "    verbose=False,\n",
    "    allow_parallel_tool_calls=False,\n",
    "    system_prompt=\"You are an agent that writes a report based on the results of research by another agent.\"\n",
    ")\n",
    "review_agent = GenericFunctionCallingAgent.from_tools(\n",
    "    tools=[],\n",
    "    llm=llm,\n",
    "    verbose=False,\n",
    "    allow_parallel_tool_calls=False,\n",
    "    system_prompt=\"You are an agent that reviews a report written by a different agent.\"\n",
    ")"
   ]
  },
  {
   "cell_type": "code",
   "execution_count": 70,
   "metadata": {},
   "outputs": [],
   "source": [
    "class ResearchEvent(Event):\n",
    "    prompt: str\n",
    "\n",
    "class WriteEvent(Event):\n",
    "    research: str\n",
    "\n",
    "class ReviewEvent(Event):\n",
    "    report: str\n",
    "\n",
    "class ReviewResults(Event):\n",
    "    review: str\n",
    "\n",
    "class SimpleMultiAgentFlow(Workflow):\n",
    "\n",
    "    @step\n",
    "    async def setup(self, ev: StartEvent) -> ResearchEvent:\n",
    "        self.research_agent = ev.research_agent\n",
    "        self.write_agent = ev.write_agent\n",
    "        self.review_agent = ev.review_agent\n",
    "        return ResearchEvent(prompt=ev.prompt)\n",
    "\n",
    "    @step\n",
    "    async def research(self, ctx: Context, ev: ResearchEvent) -> WriteEvent:\n",
    "\n",
    "        await ctx.set(\"prompt\", ev.prompt)\n",
    "        result = self.research_agent.chat(f\"Do some research that another agent will use to write a report about this topic: <topic>{ev.prompt}</topic>. Just include the facts without making it into a full report.\")\n",
    "\n",
    "        return WriteEvent(research=str(result))\n",
    "\n",
    "    @step\n",
    "    async def write(self, ctx: Context, ev: WriteEvent) -> ReviewEvent:\n",
    "        result = self.write_agent.chat(f\"Write a report based on this research: <research>{ev.research}</research> and this topic: <topic>{await ctx.get('prompt')}</topic>\")\n",
    "\n",
    "        return ReviewEvent(report=str(result))\n",
    "\n",
    "    @step\n",
    "    async def review(self, ctx: Context, ev: ReviewEvent) -> StopEvent:\n",
    "        result = self.review_agent.chat(f\"Review this report: <report>{ev.report}</report>\")\n",
    "\n",
    "        ctx.write_event_to_stream(ReviewResults(review=str(result)))\n",
    "\n",
    "        return StopEvent(result=ev.report)"
   ]
  },
  {
   "cell_type": "code",
   "execution_count": 71,
   "metadata": {},
   "outputs": [
    {
     "name": "stdout",
     "output_type": "stream",
     "text": [
      "Running step setup\n",
      "Step setup produced event ResearchEvent\n",
      "Running step research\n",
      "Step research produced event WriteEvent\n",
      "Running step write\n",
      "Step write produced event ReviewEvent\n",
      "Running step review\n",
      "Step review produced event StopEvent\n",
      "==== The review ====\n",
      "### Review of the Report on the History of San Francisco\n",
      "\n",
      "#### Overall Impression\n",
      "The report provides a concise and informative overview of San Francisco's history, effectively covering key milestones from its indigenous roots to its modern status as a global city. The structure is logical, and the flow of information is coherent, making it easy for readers to follow the historical narrative.\n",
      "\n",
      "#### Strengths\n",
      "1. **Comprehensive Coverage**: The report successfully highlights significant periods in San Francisco's history, including indigenous history, Spanish colonization, Mexican rule, American annexation, the Gold Rush, the 1906 earthquake and fire, and modern developments. This breadth gives readers a well-rounded understanding of the city's evolution.\n",
      "\n",
      "2. **Clear and Concise Language**: The language used is straightforward and accessible, making the report suitable for a wide audience. Technical terms are minimal, which helps in maintaining reader engagement.\n",
      "\n",
      "3. **Historical Context**: The report effectively places San Francisco's history within the broader context of California and American history, which enriches the narrative and provides a deeper understanding of the city's significance.\n",
      "\n",
      "4. **Use of Resources**: The inclusion of external resources at the end of the report encourages further exploration and research, which is a valuable addition for readers interested in delving deeper into the topic.\n",
      "\n",
      "#### Areas for Improvement\n",
      "1. **Depth of Analysis**: While the report covers many historical events, it could benefit from a deeper analysis of the social and cultural impacts of these events. For instance, discussing the effects of the Gold Rush on indigenous populations or the long-term implications of the 1906 earthquake on urban planning could provide a more nuanced perspective.\n",
      "\n",
      "2. **Citations and References**: While external resources are provided, the report lacks in-text citations for specific historical claims. Including citations would enhance the credibility of the information presented and allow readers to verify facts more easily.\n",
      "\n",
      "3. **Visual Elements**: The report is text-heavy and could be improved with the inclusion of visual elements such as maps, photographs, or timelines. These elements could help illustrate key points and engage readers more effectively.\n",
      "\n",
      "4. **Conclusion Expansion**: The conclusion, while summarizing the report well, could be expanded to reflect on current challenges facing San Francisco, such as housing issues or environmental concerns. This would connect the historical narrative to contemporary issues, making the report more relevant to current discussions.\n",
      "\n",
      "#### Conclusion\n",
      "Overall, this report on the history of San Francisco is well-structured and informative, providing a solid foundation for understanding the city's past. With some enhancements in depth, citations, visual elements, and contemporary relevance, it could serve as an even more valuable resource for readers interested in the rich history of San Francisco.\n",
      "==== The report ====\n",
      "# Report on the History of San Francisco\n",
      "\n",
      "## Introduction\n",
      "San Francisco, a vibrant city located on the west coast of the United States, has a rich and diverse history that reflects the broader narrative of California and the American West. This report outlines key historical milestones that have shaped San Francisco from its indigenous roots to its modern status as a global city.\n",
      "\n",
      "## Indigenous History\n",
      "Before European contact, the area now known as San Francisco was inhabited by the Ohlone people. They referred to the region as \"Ahwaste,\" meaning \"place at the bay.\" The Ohlone were part of a larger cultural unit that extended from south of the Golden Gate to San José, showcasing a deep connection to the land and its resources.\n",
      "\n",
      "## Spanish Colonization\n",
      "The late 18th century marked the arrival of Spanish explorers, leading to the establishment of Mission San Francisco de Asís, also known as Mission Dolores, in 1776. This mission was part of a broader mission system aimed at converting Indigenous peoples and expanding Spanish influence in California.\n",
      "\n",
      "## Mexican Rule\n",
      "Following Mexico's independence from Spain in 1821, San Francisco became part of Mexican territory. During this period, the settlement was known as \"Yerba Buena,\" a name that reflects the region's natural resources and cultural heritage.\n",
      "\n",
      "## American Annexation\n",
      "The United States gained control of California during the Mexican-American War (1846-1848). In 1847, Yerba Buena was officially renamed San Francisco, marking the beginning of a new chapter in the city's history as it transitioned into American governance.\n",
      "\n",
      "## Gold Rush\n",
      "The discovery of gold in 1848 was a pivotal moment for San Francisco, leading to an unprecedented influx of people seeking fortune. The population skyrocketed from approximately 1,000 in 1848 to over 25,000 by 1850, transforming San Francisco into a bustling urban center almost overnight.\n",
      "\n",
      "## Earthquake and Fire\n",
      "On April 18, 1906, a devastating earthquake struck San Francisco, followed by a catastrophic fire that destroyed thousands of buildings and left many residents homeless. Despite this disaster, the city demonstrated remarkable resilience, quickly rebuilding and continuing its growth trajectory.\n",
      "\n",
      "## Cultural and Economic Hub\n",
      "Throughout the 20th century, San Francisco emerged as a cultural and economic powerhouse. It played a significant role during World War II as a major point of embarkation for the Pacific theater, further solidifying its importance on the national stage.\n",
      "\n",
      "## Infrastructure Development\n",
      "The construction of iconic infrastructure, such as the Golden Gate Bridge (completed in 1937) and the San Francisco-Oakland Bay Bridge (completed in 1936), significantly enhanced the city's connectivity and facilitated its growth, making it a vital hub for transportation and commerce.\n",
      "\n",
      "## Modern Era\n",
      "In recent decades, San Francisco has become renowned for its diverse culture, technological innovations, and status as a global financial center. The city continues to attract people from around the world, contributing to its dynamic and multicultural environment.\n",
      "\n",
      "## Conclusion\n",
      "The history of San Francisco is a testament to its resilience and adaptability. From its indigenous roots to its current status as a global city, San Francisco's journey reflects broader historical trends and the enduring spirit of its inhabitants. For further exploration of San Francisco's history, additional resources can be found at [History.com](https://www.history.com/topics/us-states/san-francisco), [Wikipedia](https://en.wikipedia.org/wiki/History_of_San_Francisco), and [Britannica](https://www.britannica.com/place/San-Francisco-California).\n"
     ]
    }
   ],
   "source": [
    "import nest_asyncio\n",
    "nest_asyncio.apply()\n",
    "#                                            verbose is what will print out \"Running step setup\"\n",
    "workflow = SimpleMultiAgentFlow(timeout=30, verbose=True)\n",
    "handler = workflow.run(\n",
    "    prompt=\"History of San Francisco\",\n",
    "    research_agent=research_agent,\n",
    "    write_agent=write_agent,\n",
    "    review_agent=review_agent\n",
    ")\n",
    "\n",
    "async for ev in handler.stream_events():\n",
    "    if isinstance(ev, ReviewResults):\n",
    "        print(\"==== The review ====\")\n",
    "        print(ev.review)\n",
    "\n",
    "final_result = await handler\n",
    "print(\"==== The report ====\")\n",
    "print(final_result)"
   ]
  },
  {
   "cell_type": "markdown",
   "metadata": {},
   "source": [
    "Add Reflection"
   ]
  },
  {
   "cell_type": "code",
   "execution_count": 72,
   "metadata": {},
   "outputs": [],
   "source": [
    "class RewriteEvent(Event):\n",
    "    review: str\n",
    "\n",
    "# Our WriteEvent doesn't need research attached any more\n",
    "class WriteEvent(Event):\n",
    "    pass\n",
    "\n",
    "class MultiAgentFlowWithReflection(Workflow):\n",
    "\n",
    "    @step\n",
    "    async def setup(self, ev: StartEvent) -> ResearchEvent:\n",
    "        self.research_agent = ev.research_agent\n",
    "        self.write_agent = ev.write_agent\n",
    "        self.review_agent = ev.review_agent\n",
    "        return ResearchEvent(prompt=ev.prompt)\n",
    "\n",
    "    @step\n",
    "    async def research(self, ctx: Context, ev: ResearchEvent) -> WriteEvent:\n",
    "\n",
    "        await ctx.set(\"prompt\", ev.prompt)\n",
    "        result = self.research_agent.chat(f\"Do some research that another agent will use to write a report about this topic: <topic>{ev.prompt}</topic>. Just include the facts without making it into a full report.\")\n",
    "\n",
    "        # store the research in the context for multiple uses\n",
    "        await ctx.set(\"research\", str(result))\n",
    "\n",
    "        return WriteEvent()\n",
    "\n",
    "    @step\n",
    "    async def write(self, ctx: Context, ev: WriteEvent | RewriteEvent ) -> ReviewEvent:\n",
    "\n",
    "        prompt = f\"Write a report based on this research: <research>{await ctx.get('research')}</research> and this topic: <topic>{await ctx.get('prompt')}</topic> \"\n",
    "\n",
    "        # detect RewriteEvents and modify the prompt\n",
    "        if isinstance(ev, RewriteEvent):\n",
    "            print(\"Doing a rewrite!\")\n",
    "            prompt += f\"This report has reviewed and the reviewer had this feedback, which you should take into account: <review>{ev.review}</review>\"\n",
    "\n",
    "        result = self.write_agent.chat(prompt)\n",
    "\n",
    "        return ReviewEvent(report=str(result))\n",
    "\n",
    "    @step\n",
    "    async def review(self, ctx: Context, ev: ReviewEvent) -> StopEvent | RewriteEvent:\n",
    "        result = self.review_agent.chat(f\"Review this report: {ev.report}\")\n",
    "\n",
    "        # get the LLM to self-reflect\n",
    "        try_again = llm.complete(f\"This is a review of a report written by an agent. If you think this review is bad enough that the agent should try again, respond with just the word RETRY. If the review is good, reply with just the word CONTINUE. Here's the review: <review>{str(result)}</review>\")\n",
    "\n",
    "        if try_again.text == \"RETRY\":\n",
    "            print(\"Reviewer said try again\")\n",
    "            return RewriteEvent(review=str(result))\n",
    "        else:\n",
    "            print(\"Reviewer thought it was good!\")\n",
    "            return StopEvent(result=ev.report)"
   ]
  },
  {
   "cell_type": "code",
   "execution_count": 73,
   "metadata": {},
   "outputs": [
    {
     "name": "stdout",
     "output_type": "stream",
     "text": [
      "Running step setup\n",
      "Step setup produced event ResearchEvent\n",
      "Running step research\n",
      "Step research produced event WriteEvent\n",
      "Running step write\n",
      "Step write produced event ReviewEvent\n",
      "Running step review\n",
      "Reviewer thought it was good!\n",
      "Step review produced event StopEvent\n",
      "==== The report ====\n",
      "# Report on the History of San Francisco\n",
      "\n",
      "## Introduction\n",
      "San Francisco, a city renowned for its stunning landscapes and rich cultural heritage, has a complex history that reflects its geographical significance and the diverse communities that have shaped it. This report outlines key historical events and milestones that have contributed to the development of San Francisco from its indigenous roots to its modern-day status.\n",
      "\n",
      "## Geographical Significance\n",
      "San Francisco is strategically located at the entrance to one of the largest natural harbors on the Pacific coast. This advantageous position has played a crucial role in its development as a center of maritime trade, facilitating economic growth and attracting settlers and traders throughout its history.\n",
      "\n",
      "## Indigenous Name and Early Inhabitants\n",
      "The area now known as San Francisco was originally inhabited by the Ohlone people, who referred to it as \"Ahwaste,\" meaning \"place at the bay.\" The Ohlone's deep connection to the land and its resources laid the foundation for the region's cultural heritage.\n",
      "\n",
      "## Spanish Colonization\n",
      "In 1769, Spanish explorers led by Gaspar de Portolá arrived in the region, marking the beginning of European influence. The first European settlement was established in 1776 with the founding of Mission San Francisco de Asís, also known as Mission Dolores. This mission was part of a broader effort to convert Indigenous peoples and expand Spanish territorial claims.\n",
      "\n",
      "## Mexican Rule\n",
      "Following Mexico's independence from Spain in 1821, San Francisco became part of Mexican territory and was known as \"Yerba Buena.\" This period saw the city develop under Mexican governance, setting the stage for future growth.\n",
      "\n",
      "## American Control\n",
      "The United States gained control of California during the Mexican-American War (1846-1848). In 1847, Yerba Buena was officially renamed San Francisco, marking a significant transition in the city's governance and identity.\n",
      "\n",
      "## Gold Rush Era\n",
      "The discovery of gold in 1848 was a transformative event for San Francisco, leading to a massive population boom. The city's population surged from approximately 1,000 in 1848 to over 25,000 by 1850, as fortune seekers flocked to the area, turning San Francisco into a bustling urban center almost overnight.\n",
      "\n",
      "## 1906 Earthquake and Fire\n",
      "On April 18, 1906, a devastating earthquake struck San Francisco, followed by a catastrophic fire that destroyed much of the city. Despite the extensive destruction, the resilience of the city's residents shone through as San Francisco quickly rebuilt and continued its growth trajectory.\n",
      "\n",
      "## Cultural and Economic Hub\n",
      "Throughout the 20th century, San Francisco emerged as a cultural and economic powerhouse. It became a center for military power, progressive culture, and technology, playing a crucial role during World War II as a major point of embarkation for the Pacific theater.\n",
      "\n",
      "## Infrastructure Development\n",
      "Significant infrastructure projects, such as the Golden Gate Bridge (completed in 1937) and the San Francisco-Oakland Bay Bridge (completed in 1936), enhanced the city's connectivity and facilitated its growth, making it a vital hub for transportation and commerce.\n",
      "\n",
      "## Modern Demographics\n",
      "As of 2022, San Francisco's population was approximately 808,000, characterized by a diverse cultural makeup that includes significant Hispanic, Chinese, Japanese, and Filipino communities. This diversity continues to enrich the city's cultural landscape and contribute to its dynamic identity.\n",
      "\n",
      "## Conclusion\n",
      "The history of San Francisco is a testament to its resilience, adaptability, and cultural richness. From its indigenous roots to its emergence as a global city, San Francisco's journey reflects broader historical trends and the enduring spirit of its inhabitants. For further exploration of San Francisco's history, additional resources can be found at [Wikipedia](https://en.wikipedia.org/wiki/History_of_San_Francisco), [History.com](https://www.history.com/topics/us-states/san-francisco), and [Britannica](https://www.britannica.com/place/San-Francisco-California).\n"
     ]
    }
   ],
   "source": [
    "workflow = MultiAgentFlowWithReflection(timeout=30, verbose=True)\n",
    "handler = workflow.run(\n",
    "    prompt=\"History of San Francisco\",\n",
    "    research_agent=research_agent,\n",
    "    write_agent=write_agent,\n",
    "    review_agent=review_agent\n",
    ")\n",
    "\n",
    "final_result = await handler\n",
    "print(\"==== The report ====\")\n",
    "print(final_result)"
   ]
  },
  {
   "cell_type": "code",
   "execution_count": 75,
   "metadata": {},
   "outputs": [
    {
     "name": "stdout",
     "output_type": "stream",
     "text": [
      "<class 'NoneType'>\n",
      "<class '__main__.WriteEvent'>\n",
      "<class 'llama_index.core.workflow.events.StopEvent'>\n",
      "<class '__main__.RewriteEvent'>\n",
      "<class '__main__.ResearchEvent'>\n",
      "<class '__main__.ReviewEvent'>\n",
      "basic_workflow.html\n"
     ]
    }
   ],
   "source": [
    "from llama_index.utils.workflow import draw_all_possible_flows\n",
    "\n",
    "draw_all_possible_flows(MultiAgentFlowWithReflection, filename=\"basic_workflow.html\")"
   ]
  },
  {
   "cell_type": "code",
   "execution_count": null,
   "metadata": {},
   "outputs": [],
   "source": []
  }
 ],
 "metadata": {
  "kernelspec": {
   "display_name": ".venv",
   "language": "python",
   "name": "python3"
  },
  "language_info": {
   "codemirror_mode": {
    "name": "ipython",
    "version": 3
   },
   "file_extension": ".py",
   "mimetype": "text/x-python",
   "name": "python",
   "nbconvert_exporter": "python",
   "pygments_lexer": "ipython3",
   "version": "3.13.0"
  }
 },
 "nbformat": 4,
 "nbformat_minor": 2
}
